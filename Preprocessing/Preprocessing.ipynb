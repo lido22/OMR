{
 "cells": [
  {
   "cell_type": "markdown",
   "metadata": {},
   "source": [
    "\n",
    "# Preprocessing \n",
    "### This Notebook takes an image and the output is the binarized Image with horizontal staff lines\n",
    "### It takes care of the enhancement of the image and choosing apropriate threshold\n"
   ]
  },
  {
   "cell_type": "code",
   "execution_count": 2,
   "metadata": {},
   "outputs": [],
   "source": [
    "from commonfunctions import *\n",
    "import numpy as np\n",
    "import skimage.io as io\n",
    "import matplotlib.pyplot as plt\n",
    "from skimage.color import rgb2gray\n",
    "from skimage.morphology import binary_erosion, binary_dilation, binary_closing,skeletonize, thin\n",
    "from skimage.measure import find_contours\n",
    "from skimage.draw import rectangle\n",
    "from collections import Counter\n",
    "import skimage.filters as fr\n",
    "import skimage as sk\n",
    "%matplotlib inline\n",
    "%load_ext autoreload\n",
    "%autoreload 2"
   ]
  },
  {
   "cell_type": "code",
   "execution_count": 6,
   "metadata": {},
   "outputs": [],
   "source": [
    "def getRefLengths(img, offset=1):\n",
    "    cols = img.shape[1]\n",
    "    rows = img.shape[0]\n",
    "    cur = 0\n",
    "    hist = np.zeros((rows,rows), dtype=np.uint32)\n",
    "    \n",
    "    for i in range(0,cols):\n",
    "        flag = False\n",
    "        begin = 0\n",
    "        blackRuns = []\n",
    "        whiteRuns = []\n",
    "        runtype = 0\n",
    "        while begin < rows and img[begin,i] == 1:\n",
    "            begin += 1\n",
    "#         print('col=', i)\n",
    "        for j in range(begin, rows):\n",
    "            if img[j,i] == runtype:\n",
    "                cur += 1\n",
    "#                 print('runtype', runtype, 'cur',cur)\n",
    "            else:\n",
    "#                 print('else')\n",
    "                if runtype == 0:\n",
    "#                     print('append black', cur)\n",
    "                    blackRuns.append(cur)\n",
    "                else:\n",
    "#                     print('append white', cur)\n",
    "                    whiteRuns.append(cur)\n",
    "                cur = 1\n",
    "                runtype = img[j, i]\n",
    "                if flag:\n",
    "#                     print(blackRuns[-1], '+', whiteRuns[-1])\n",
    "                    hist[blackRuns[-1], whiteRuns[-1]] += 1\n",
    "                flag = True\n",
    "#         if runtype == 0:\n",
    "#             blackRuns.append(cur)\n",
    "#         else:\n",
    "#             whiteRuns.append(cur)\n",
    "        cur = 0\n",
    "#         if flag:\n",
    "#             hist[blackRuns[-1], whiteRuns[-1]] += 1\n",
    "        \n",
    "    mx = np.max(hist)\n",
    "    ind = np.where(hist == mx)\n",
    "    return ind[0][0], ind[1][0]\n",
    "  "
   ]
  },
  {
   "cell_type": "code",
   "execution_count": 7,
   "metadata": {},
   "outputs": [
    {
     "name": "stdout",
     "output_type": "stream",
     "text": [
      "(2, 6)\n",
      "(2, 6)\n",
      "(1, 7)\n",
      "(2, 17)\n",
      "(1, 8)\n"
     ]
    }
   ],
   "source": [
    "paths = ['../../ex1.png', '../../ex2.png', '../../ex3.png', '../../ex4.png', '../../ex5.png']\n",
    "for i in paths:\n",
    "# i = '../../ex4.png'\n",
    "    img = sk.img_as_ubyte(rgb2gray(io.imread(i)))\n",
    "    thr = fr.threshold_otsu(img)\n",
    "    binary = np.where(img>thr, 1, 0)\n",
    "    staffHeight, spaceHeight = getRefLengths(binary)\n",
    "    print('staff height =', staffHeight"
   ]
  },
  {
   "cell_type": "code",
   "execution_count": null,
   "metadata": {},
   "outputs": [],
   "source": []
  }
 ],
 "metadata": {
  "kernelspec": {
   "display_name": "Python 3",
   "language": "python",
   "name": "python3"
  },
  "language_info": {
   "codemirror_mode": {
    "name": "ipython",
    "version": 3
   },
   "file_extension": ".py",
   "mimetype": "text/x-python",
   "name": "python",
   "nbconvert_exporter": "python",
   "pygments_lexer": "ipython3",
   "version": "3.7.3"
  }
 },
 "nbformat": 4,
 "nbformat_minor": 2
}
