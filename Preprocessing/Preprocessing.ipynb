{
 "cells": [
  {
   "cell_type": "markdown",
   "metadata": {},
   "source": [
    "\n",
    "# Preprocessing \n",
    "### This Notebook takes an image and the output is the binarized Image with horizontal staff lines\n",
    "### It takes care of the enhancement of the image and choosing apropriate threshold\n"
   ]
  },
  {
   "cell_type": "code",
   "execution_count": 1,
   "metadata": {},
   "outputs": [],
   "source": [
    "from commonfunctions import *\n",
    "import numpy as np\n",
    "import skimage.io as io\n",
    "import matplotlib.pyplot as plt\n",
    "from skimage.color import rgb2gray\n",
    "from skimage.morphology import binary_erosion, binary_dilation, binary_closing,skeletonize, thin\n",
    "from skimage.measure import find_contours\n",
    "from skimage.draw import rectangle\n",
    "from collections import Counter\n",
    "import skimage.filters as fr\n",
    "import skimage as sk\n",
    "%matplotlib inline\n",
    "%load_ext autoreload\n",
    "%autoreload 2"
   ]
  },
  {
   "cell_type": "code",
   "execution_count": 9,
   "metadata": {},
   "outputs": [],
   "source": [
    "def binraization(img,n=8,t=15):\n",
    "\n",
    "    outputimg = np.zeros(img.shape)\n",
    "    intimg = np.zeros(img.shape)\n",
    "    h = img.shape[1]\n",
    "    w = img.shape[0]\n",
    "    s= w//n\n",
    "    count = s**2\n",
    "    intimg = np.cumsum(img ,axis =1)\n",
    "    intimg = np.cumsum(intimg ,axis =0)\n",
    "    \n",
    "    a = np.roll(intimg,-s//2,axis =0)\n",
    "    a = np.roll(a,-s//2,axis =1)\n",
    "    a[:,-s//2:]=0\n",
    "    a[-s//2:,:]=0\n",
    " \n",
    "    b = np.roll(intimg,s//2-1,axis =0)\n",
    "    b = np.roll(b,-s//2,axis =1)\n",
    "    b[0:s//2-1,:]=0\n",
    "    b[:,-s//2:]=0\n",
    "    \n",
    "    c = np.roll(intimg,s//2-1,axis =1)\n",
    "    c = np.roll(c,-s//2,axis =0)\n",
    "    c[:,0:s//2-1]=0\n",
    "    c[-s//2:,:]=0\n",
    "    \n",
    "    d = np.roll(intimg,s//2-1,axis =0)\n",
    "    d = np.roll(d,s//2-1,axis =1)\n",
    "    d[0:s//2-1,:]=0\n",
    "    d[:,0:s//2-1]=0\n",
    "    sum = (a-b-c+d)*(100-t)/100\n",
    "    outputimg = (img*count>sum)*255\n",
    "    return outputimg"
   ]
  },
  {
   "cell_type": "code",
   "execution_count": 13,
   "metadata": {},
   "outputs": [],
   "source": [
    "def getRefLengths(img):\n",
    "    cols = img.shape[1]\n",
    "    rows = img.shape[0]\n",
    "    hist = np.zeros((rows,rows), dtype=np.uint32)\n",
    "    \n",
    "    for i in range(cols//4, 3 * cols//4):\n",
    "        a = img[:,i]\n",
    "        starts = np.array((a[:-1] == 1) & (a[1:] == 0))\n",
    "        starts_ix = np.where(starts)[0] + 2\n",
    "        ends = np.array((a[:-1] == 0) & (a[1:] == 1))\n",
    "        ends_ix = np.where(ends)[0] + 2\n",
    "        s1 = starts_ix.size\n",
    "        s2 = ends_ix.size\n",
    "        if s2 > s1:\n",
    "            starts_ix = np.pad(starts_ix,(s2-s1,0), constant_values=(1))\n",
    "        elif s1 > s2:\n",
    "            ends_ix = np.pad(ends_ix,(0,s1-s2), constant_values=(a.size + 1))\n",
    "        elif s1 > 0 and s2 > 0 and starts_ix[0] > ends_ix[0]:\n",
    "            starts_ix = np.pad(starts_ix,(1,0), constant_values=(1))\n",
    "            ends_ix = np.pad(ends_ix,(0,1), constant_values=(a.size + 1))\n",
    "            \n",
    "        l0 = ends_ix - starts_ix\n",
    "        starts_ix1 = np.pad(starts_ix[1:],(0,1),constant_values=(a.size + 1)) \n",
    "        l1 = starts_ix1 - (starts_ix + l0)\n",
    "        for i in range(s1):\n",
    "            hist[l0[i], l1[i]] += 1\n",
    "       \n",
    "    hist[:,0] = 0\n",
    "    mx = np.max(hist)\n",
    "    ind = np.where(hist == mx)\n",
    "    return ind[0][0], ind[1][0]\n",
    "  "
   ]
  },
  {
   "cell_type": "code",
   "execution_count": 14,
   "metadata": {},
   "outputs": [],
   "source": [
    "def deleteLines(binary,w):\n",
    "    theta = np.arange(-math.pi,math.pi,0.01)\n",
    "    max_R = math.sqrt(binary.shape[0]**2 +  binary.shape[1]**2)\n",
    "    vote_mat = np.zeros((int(theta.size),int(round(max_R))))\n",
    "    for row in range(binary.shape[0]):\n",
    "        for col in range(binary.shape[1]):\n",
    "             if binary[row,col]==1:\n",
    "                for i in range(theta.size):\n",
    "                    R = math.cos(theta[i]) * col + math.sin(theta[i]) * row\n",
    "                    if  R < int(round(max_R)) and R >= 0:\n",
    "                        vote_mat[i,int(R)]+=1\n",
    "    for j in range(vote_mat.shape[0]):\n",
    "        for k in range(vote_mat.shape[1]):\n",
    "            if vote_mat[j,k] > 100:\n",
    "                thval = theta[j]\n",
    "                rval = k\n",
    "                for i in range(binary.shape[1]):\n",
    "                    x1 = i\n",
    "                    y1 = int(round((rval - math.cos(thval)*x1)/ math.sin(thval)))\n",
    "                    if not binary[y1-w:y1,x1].all() and not binary[y1:y1+w,x1].all():\n",
    "                        binary[y1,x1] = 0\n",
    "    show_images([binary],['line removed'])\n",
    "    return binary"
   ]
  },
  {
   "cell_type": "code",
   "execution_count": 15,
   "metadata": {},
   "outputs": [
    {
     "ename": "KeyboardInterrupt",
     "evalue": "",
     "output_type": "error",
     "traceback": [
      "\u001b[1;31m---------------------------------------------------------------------------\u001b[0m",
      "\u001b[1;31mKeyboardInterrupt\u001b[0m                         Traceback (most recent call last)",
      "\u001b[1;32m<ipython-input-15-7c249f626427>\u001b[0m in \u001b[0;36m<module>\u001b[1;34m\u001b[0m\n\u001b[0;32m      5\u001b[0m     \u001b[0mthr\u001b[0m \u001b[1;33m=\u001b[0m \u001b[0mfr\u001b[0m\u001b[1;33m.\u001b[0m\u001b[0mthreshold_otsu\u001b[0m\u001b[1;33m(\u001b[0m\u001b[0mimg\u001b[0m\u001b[1;33m)\u001b[0m\u001b[1;33m\u001b[0m\u001b[1;33m\u001b[0m\u001b[0m\n\u001b[0;32m      6\u001b[0m     \u001b[0mbinary\u001b[0m \u001b[1;33m=\u001b[0m \u001b[0mnp\u001b[0m\u001b[1;33m.\u001b[0m\u001b[0mwhere\u001b[0m\u001b[1;33m(\u001b[0m\u001b[0mimg\u001b[0m\u001b[1;33m>\u001b[0m\u001b[0mthr\u001b[0m\u001b[1;33m,\u001b[0m \u001b[1;36m1\u001b[0m\u001b[1;33m,\u001b[0m \u001b[1;36m0\u001b[0m\u001b[1;33m)\u001b[0m\u001b[1;33m\u001b[0m\u001b[1;33m\u001b[0m\u001b[0m\n\u001b[1;32m----> 7\u001b[1;33m     \u001b[0mlines_rv\u001b[0m \u001b[1;33m=\u001b[0m \u001b[0mdeleteLines\u001b[0m\u001b[1;33m(\u001b[0m\u001b[0mbinary\u001b[0m\u001b[1;33m,\u001b[0m\u001b[1;36m3\u001b[0m\u001b[1;33m)\u001b[0m\u001b[1;33m\u001b[0m\u001b[1;33m\u001b[0m\u001b[0m\n\u001b[0m\u001b[0;32m      8\u001b[0m     \u001b[0mstaffHeight\u001b[0m\u001b[1;33m,\u001b[0m \u001b[0mspaceHeight\u001b[0m \u001b[1;33m=\u001b[0m \u001b[0mgetRefLengths\u001b[0m\u001b[1;33m(\u001b[0m\u001b[0mbinary\u001b[0m\u001b[1;33m)\u001b[0m\u001b[1;33m\u001b[0m\u001b[1;33m\u001b[0m\u001b[0m\n\u001b[0;32m      9\u001b[0m     \u001b[0mprint\u001b[0m\u001b[1;33m(\u001b[0m\u001b[1;34m'staff height ='\u001b[0m\u001b[1;33m,\u001b[0m \u001b[0mstaffHeight\u001b[0m\u001b[1;33m,\u001b[0m \u001b[1;34m'space Height ='\u001b[0m\u001b[1;33m,\u001b[0m \u001b[0mspaceHeight\u001b[0m\u001b[1;33m)\u001b[0m\u001b[1;33m\u001b[0m\u001b[1;33m\u001b[0m\u001b[0m\n",
      "\u001b[1;32m<ipython-input-14-ce1d6769ebb2>\u001b[0m in \u001b[0;36mdeleteLines\u001b[1;34m(binary, w)\u001b[0m\n\u001b[0;32m      7\u001b[0m              \u001b[1;32mif\u001b[0m \u001b[0mbinary\u001b[0m\u001b[1;33m[\u001b[0m\u001b[0mrow\u001b[0m\u001b[1;33m,\u001b[0m\u001b[0mcol\u001b[0m\u001b[1;33m]\u001b[0m\u001b[1;33m==\u001b[0m\u001b[1;36m1\u001b[0m\u001b[1;33m:\u001b[0m\u001b[1;33m\u001b[0m\u001b[1;33m\u001b[0m\u001b[0m\n\u001b[0;32m      8\u001b[0m                 \u001b[1;32mfor\u001b[0m \u001b[0mi\u001b[0m \u001b[1;32min\u001b[0m \u001b[0mrange\u001b[0m\u001b[1;33m(\u001b[0m\u001b[0mtheta\u001b[0m\u001b[1;33m.\u001b[0m\u001b[0msize\u001b[0m\u001b[1;33m)\u001b[0m\u001b[1;33m:\u001b[0m\u001b[1;33m\u001b[0m\u001b[1;33m\u001b[0m\u001b[0m\n\u001b[1;32m----> 9\u001b[1;33m                     \u001b[0mR\u001b[0m \u001b[1;33m=\u001b[0m \u001b[0mmath\u001b[0m\u001b[1;33m.\u001b[0m\u001b[0mcos\u001b[0m\u001b[1;33m(\u001b[0m\u001b[0mtheta\u001b[0m\u001b[1;33m[\u001b[0m\u001b[0mi\u001b[0m\u001b[1;33m]\u001b[0m\u001b[1;33m)\u001b[0m \u001b[1;33m*\u001b[0m \u001b[0mcol\u001b[0m \u001b[1;33m+\u001b[0m \u001b[0mmath\u001b[0m\u001b[1;33m.\u001b[0m\u001b[0msin\u001b[0m\u001b[1;33m(\u001b[0m\u001b[0mtheta\u001b[0m\u001b[1;33m[\u001b[0m\u001b[0mi\u001b[0m\u001b[1;33m]\u001b[0m\u001b[1;33m)\u001b[0m \u001b[1;33m*\u001b[0m \u001b[0mrow\u001b[0m\u001b[1;33m\u001b[0m\u001b[1;33m\u001b[0m\u001b[0m\n\u001b[0m\u001b[0;32m     10\u001b[0m                     \u001b[1;32mif\u001b[0m  \u001b[0mR\u001b[0m \u001b[1;33m<\u001b[0m \u001b[0mint\u001b[0m\u001b[1;33m(\u001b[0m\u001b[0mround\u001b[0m\u001b[1;33m(\u001b[0m\u001b[0mmax_R\u001b[0m\u001b[1;33m)\u001b[0m\u001b[1;33m)\u001b[0m \u001b[1;32mand\u001b[0m \u001b[0mR\u001b[0m \u001b[1;33m>=\u001b[0m \u001b[1;36m0\u001b[0m\u001b[1;33m:\u001b[0m\u001b[1;33m\u001b[0m\u001b[1;33m\u001b[0m\u001b[0m\n\u001b[0;32m     11\u001b[0m                         \u001b[0mvote_mat\u001b[0m\u001b[1;33m[\u001b[0m\u001b[0mi\u001b[0m\u001b[1;33m,\u001b[0m\u001b[0mint\u001b[0m\u001b[1;33m(\u001b[0m\u001b[0mR\u001b[0m\u001b[1;33m)\u001b[0m\u001b[1;33m]\u001b[0m\u001b[1;33m+=\u001b[0m\u001b[1;36m1\u001b[0m\u001b[1;33m\u001b[0m\u001b[1;33m\u001b[0m\u001b[0m\n",
      "\u001b[1;31mKeyboardInterrupt\u001b[0m: "
     ]
    }
   ],
   "source": [
    "paths = ['../../ex1.png', '../../ex2.png', '../../ex3.png', '../../ex4.png', '../../ex5.png']\n",
    "for i in paths:\n",
    "# i = '../../ex4.png'\n",
    "    img = sk.img_as_ubyte(rgb2gray(io.imread(i)))\n",
    "    thr = fr.threshold_otsu(img)\n",
    "    binary = np.where(img>thr, 1, 0)\n",
    "    lines_rv = deleteLines(binary,3)\n",
    "    staffHeight, spaceHeight = getRefLengths(binary)\n",
    "    print('staff height =', staffHeight, 'space Height =', spaceHeight)"
   ]
  },
  {
   "cell_type": "code",
   "execution_count": 24,
   "metadata": {},
   "outputs": [],
   "source": [
    "img = rgb2gray(io.imread(\"../Image-Processing/ex2.png\"))"
   ]
  },
  {
   "cell_type": "code",
   "execution_count": 25,
   "metadata": {},
   "outputs": [
    {
     "data": {
      "image/png": "[encoded data removed]",
      "text/plain": [
       "<Figure size 864x576 with 2 Axes>"
      ]
     },
     "metadata": {
      "needs_background": "light"
     },
     "output_type": "display_data"
    }
   ],
   "source": [
    "show_images([img,binraization(img)],[\"orginal\",\"binraized\"])"
   ]
  }
 ],
 "metadata": {
  "kernelspec": {
   "display_name": "Python 3",
   "language": "python",
   "name": "python3"
  },
  "language_info": {
   "codemirror_mode": {
    "name": "ipython",
    "version": 3
   },
   "file_extension": ".py",
   "mimetype": "text/x-python",
   "name": "python",
   "nbconvert_exporter": "python",
   "pygments_lexer": "ipython3",
   "version": "3.8.5"
  }
 },
 "nbformat": 4,
 "nbformat_minor": 2
}
