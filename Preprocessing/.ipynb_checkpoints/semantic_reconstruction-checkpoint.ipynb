{
 "cells": [
  {
   "cell_type": "code",
   "execution_count": 143,
   "metadata": {},
   "outputs": [
    {
     "name": "stdout",
     "output_type": "stream",
     "text": [
      "The autoreload extension is already loaded. To reload it, use:\n",
      "  %reload_ext autoreload\n"
     ]
    }
   ],
   "source": [
    "from commonfunctions import *\n",
    "\n",
    "from scipy.signal import convolve\n",
    "\n",
    "import segmentation\n",
    "%matplotlib inline\n",
    "%load_ext autoreload\n",
    "%autoreload 2"
   ]
  },
  {
   "cell_type": "code",
   "execution_count": 144,
   "metadata": {},
   "outputs": [],
   "source": [
    "import numpy as np\n",
    "from sklearn.neighbors import KNeighborsClassifier\n",
    "from sklearn.neural_network import MLPClassifier  # MLP is an NN\n",
    "from sklearn import svm\n",
    "import cv2\n",
    "import matplotlib.pyplot as plt\n",
    "import os \n",
    "from skimage.measure import find_contours\n",
    "from skimage.color import rgb2gray , rgba2rgb\n",
    "from skimage.transform import resize\n",
    "from PIL import Image\n",
    "import sys\n",
    "import random\n",
    "from sklearn.model_selection import train_test_split\n",
    "# import sklearn.datasets.images as loader\n",
    "from sklearn.neighbors import KNeighborsClassifier\n",
    "from sklearn.neural_network import MLPClassifier  # MLP is an NN\n",
    "from sklearn import svm\n",
    "import numpy as np\n",
    "import argparse\n",
    "from notes import getNoteCharacter\n",
    "# import imutils  # If you are unable to install this library, ask the TA; we only need this in extract_hsv_histogram.\n",
    "import cv2\n",
    "import os\n",
    "import random\n",
    "import pickle"
   ]
  },
  {
   "cell_type": "code",
   "execution_count": 145,
   "metadata": {},
   "outputs": [],
   "source": [
    "file = open(\"nn2.pickle\",'rb')\n",
    "nn = pickle.load(file)"
   ]
  },
  {
   "cell_type": "code",
   "execution_count": 146,
   "metadata": {},
   "outputs": [],
   "source": [
    "target_img_size = (32, 32) # fix image size because|> classification algorithms THAT WE WILL USE HERE expect that\n",
    "\n",
    "# We are going to fix the random seed to make our experiments reproducible \n",
    "# since some algorithms use pseudorandom generators\n",
    "random_seed = 42  \n",
    "random.seed(random_seed)\n",
    "np.random.seed(random_seed)"
   ]
  },
  {
   "cell_type": "code",
   "execution_count": 147,
   "metadata": {},
   "outputs": [],
   "source": [
    "def extract_hog_features(img):\n",
    "    \"\"\"\n",
    "    TODO\n",
    "    You won't implement anything in this function. You just need to understand it \n",
    "    and understand its parameters (i.e win_size, cell_size, ... etc)\n",
    "    \"\"\"\n",
    "    img = cv2.resize(img, target_img_size)\n",
    "    win_size = (32, 32)\n",
    "    cell_size = (4, 4)\n",
    "    block_size_in_cells = (2, 2)\n",
    "    \n",
    "    block_size = (block_size_in_cells[1] * cell_size[1], block_size_in_cells[0] * cell_size[0])\n",
    "    block_stride = (cell_size[1], cell_size[0])\n",
    "    nbins = 9  # Number of orientation bins\n",
    "    hog = cv2.HOGDescriptor(win_size, block_size, block_stride, cell_size, nbins)\n",
    "    h = hog.compute(img)\n",
    "    h = h.flatten()\n",
    "    return h.flatten()"
   ]
  },
  {
   "cell_type": "code",
   "execution_count": 148,
   "metadata": {},
   "outputs": [],
   "source": [
    "def extract_features(img, feature_set='hog'):\n",
    "    \"\"\"\n",
    "    TODO\n",
    "    Given either 'hsv_hist', 'hog', 'raw', call the respective function and return its output\n",
    "    \"\"\"\n",
    "    if(feature_set ==\"hog\"):\n",
    "        return extract_hog_features(img)\n",
    "    if(feature_set ==\"hsv_hist\"):\n",
    "        return extract_hsv_histogram(img)\n",
    "    if(feature_set ==\"raw\"):\n",
    "        return extract_raw_pixels(img)\n"
   ]
  },
  {
   "cell_type": "code",
   "execution_count": 149,
   "metadata": {},
   "outputs": [],
   "source": [
    "def isDot(img, spaceHeight):\n",
    "    if img.shape[0] > spaceHeight:\n",
    "        return False\n",
    "    return True"
   ]
  },
  {
   "cell_type": "code",
   "execution_count": 150,
   "metadata": {},
   "outputs": [],
   "source": [
    "def chord2text(cnt_pos,staffHeight,spaceHeight,lines):\n",
    "    char_middle = ''\n",
    "    char_top = ''\n",
    "    char_down = ''\n",
    "    height = cnt_pos[1] - cnt_pos[0]\n",
    "    if height > 2.75 * spaceHeight: \n",
    "        # height of 3 notes\n",
    "        middle = img[img.shape[0]//3:img.shape[0]*2//3,staffHeight:img.shape[1]-staffHeight]\n",
    "       \n",
    "        #get top and down\n",
    "        _, top, distanceTop = getNearestLine(cnt_pos[0],lines)\n",
    "        _, bottom, distanceBottom = getNearestLine(cnt_pos[0] + height //3 ,lines)\n",
    "        char_top = getHeadCharacter(top, distanceTop, bottom, distanceBottom, spaceHeight)\n",
    "        _, top, distanceTop = getNearestLine(cnt_pos[0] + height*2//3,lines)\n",
    "        _, bottom, distanceBottom = getNearestLine((cnt_pos[1]),lines)\n",
    "        char_down = getHeadCharacter(top, distanceTop, bottom, distanceBottom, spaceHeight)\n",
    "        if np.sum(middle) > len(middle)//2:\n",
    "            # there's a note in middle \n",
    "            _, top, distanceTop = getNearestLine(cnt_pos[0] + height //3 ,lines)\n",
    "            _, bottom, distanceBottom = getNearestLine(cnt_pos[0] + height*2//3,lines)\n",
    "            char_middle = getHeadCharacter(top, distanceTop, bottom, distanceBottom, spaceHeight)\n",
    "    elif height < 1.5 * spaceHeight:\n",
    "        # heigth of 1 note\n",
    "        # don't think it shoud come here but anyway\n",
    "        _, top, distanceTop = getNearestLine(cnt_pos[0],lines)\n",
    "        _, bottom, distanceBottom = getNearestLine(cnt_pos[1],lines)\n",
    "        print(top,bottom)\n",
    "        char_down = getHeadCharacter(top, distanceTop, bottom, distanceBottom, spaceHeight)\n",
    "    else: \n",
    "        _, top, distanceTop = getNearestLine(cnt_pos[0],lines)\n",
    "        _, bottom, distanceBottom = getNearestLine(cnt_pos[0]+ height//2,lines)\n",
    "        char_top = getHeadCharacter(top, distanceTop, bottom, distanceBottom, spaceHeight)\n",
    "        _, top, distanceTop = getNearestLine(cnt_pos[0]+height//2,lines)\n",
    "        _, bottom, distanceBottom = getNearestLine(cnt_pos[1],lines)\n",
    "        char_down = getHeadCharacter(top, distanceTop, bottom, distanceBottom, spaceHeight)\n",
    "        # height of 2 notes\n",
    "    return str(char_down) + str(char_middle) + str(char_top)"
   ]
  },
  {
   "cell_type": "code",
   "execution_count": 151,
   "metadata": {},
   "outputs": [],
   "source": [
    "def getchordText(cnt_pos,cnt_img,staffHeight,spaceHeight,lines):\n",
    "    h_hist = np.sum(cnt_img,axis=0)\n",
    "    bar_idx = np.where(h_hist== np.max(h_hist))[0][0]\n",
    "    img = binary_opening(cnt_img.copy(),np.ones((staffHeight,cnt_img.shape[1]//2)))\n",
    "\n",
    "    if ((bar_idx >  cnt_img.shape[1]//2 -staffHeight) and (bar_idx < cnt_img.shape[1]//2+staffHeight)):\n",
    "        # chord is two sides \n",
    "        rh = img[:,:bar_idx] #right half\n",
    "        rh = binary_opening(rh.copy(),np.ones((staffHeight,rh.shape[1]//2)))\n",
    "        lh = img[:,bar_idx:] # left half \n",
    "        lh = binary_opening(lh.copy(),np.ones((staffHeight,lh.shape[1]//2)))\n",
    "        # apply on right half\n",
    "        hist = np.sum(rh,axis=1)\n",
    "        idxs = np.where(hist > staffHeight)\n",
    "        min_y = idxs[0][0]\n",
    "        max_y = idxs[0][len(idxs[0])-1]+1\n",
    "        rcnt_pos = [min_y+cnt_pos[0],max_y+cnt_pos[0]]\n",
    "        text1 = chord2text(rcnt_pos,staffHeight,spaceHeight,lines)\n",
    "        #apply on left half\n",
    "        hist = np.sum(lh,axis=1)\n",
    "        idxs = np.where(hist > staffHeight)\n",
    "        min_y = idxs[0][0]\n",
    "        max_y = idxs[0][len(idxs[0])-1]+1\n",
    "        lcnt_pos = [min_y+cnt_pos[0],max_y+cnt_pos[0]]     \n",
    "        text2 = chord2text(lcnt_pos,staffHeight,spaceHeight,lines)\n",
    "        return \"\".join(sorted(text1 + text2))\n",
    "    else:\n",
    "        # chor is one side\n",
    "        hist = np.sum(img,axis=1)\n",
    "        idxs = np.where(hist > staffHeight)\n",
    "        min_y = idxs[0][0]\n",
    "        max_y = idxs[0][len(idxs[0])-1]+1\n",
    "        cnt_pos = [min_y+cnt_pos[0],max_y+cnt_pos[0]]\n",
    "        return \"\".join(sorted(chord2text(cnt_pos,staffHeight,spaceHeight,lines)))"
   ]
  },
  {
   "cell_type": "code",
   "execution_count": 152,
   "metadata": {},
   "outputs": [],
   "source": [
    "def isHalf(img, spaceHeight):\n",
    "    w = img.shape[1]\n",
    "    h = img.shape[0]\n",
    "    hist = np.zeros((w,4), dtype=np.uint32)\n",
    "    min_x, max_x = 0, w\n",
    "    min_y, max_y = 0, h \n",
    "    for i in range(w):\n",
    "        window = img[:, i: min(i + 1, w)]\n",
    "    #     show_images([window])\n",
    "        xprojection = np.sum(window, axis=1)\n",
    "    #     xprojection = np.where(xprojection>spaceHeight//4, 1,0)\n",
    "\n",
    "        starts = np.array((xprojection[:-1] == 0) & (xprojection[1:] != 0))\n",
    "        starts_ix = np.where(starts)[0] + 1\n",
    "        ends = np.array((xprojection[:-1] != 0) & (xprojection[1:] == 0))\n",
    "        ends_ix = np.where(ends)[0]\n",
    "\n",
    "        if xprojection[0] != 0:\n",
    "            starts_ix = np.append(0, starts_ix)\n",
    "\n",
    "        if xprojection[-1] != 0:\n",
    "            ends_ix = np.append(ends_ix, xprojection.size-1)\n",
    "\n",
    "        if starts_ix.size != 0:\n",
    "            index = np.argmax(ends_ix - starts_ix)\n",
    "            hist[i,1] = min_x + i\n",
    "            hist[i,2] = min_y + starts_ix[index]\n",
    "            hist[i,3] = min_y + ends_ix[index]\n",
    "            length = hist[i,3] - hist[i,2]\n",
    "            if 0.5*spaceHeight < length < spaceHeight*1.5:\n",
    "                hist[i,0] = length\n",
    "    projections = len(np.where(hist[:,0]>0)[0])\n",
    "    if projections > img.shape[1]//3:\n",
    "        return False\n",
    "    else:\n",
    "        return True"
   ]
  },
  {
   "cell_type": "code",
   "execution_count": 153,
   "metadata": {},
   "outputs": [],
   "source": [
    "classes = ['a_1', 'a_16 ', 'a_2', 'a_32', 'a_4', 'a_8', \n",
    "           'barline ', 'chord', 'clef', '.', 'e&&', 'e##', 'e&', 'e', 'e#', 'meter<\"4/2\"> ', 'meter<\"4/4\"> ']"
   ]
  },
  {
   "cell_type": "code",
   "execution_count": 160,
   "metadata": {},
   "outputs": [
    {
     "name": "stdout",
     "output_type": "stream",
     "text": [
      "rotation time:0.10596060752868652\n",
      "binarization time:0.01195979118347168\n"
     ]
    },
    {
     "data": {
      "image/png": "[encoded data removed]",
      "text/plain": [
       "<Figure size 432x288 with 1 Axes>"
      ]
     },
     "metadata": {
      "needs_background": "light"
     },
     "output_type": "display_data"
    },
    {
     "name": "stdout",
     "output_type": "stream",
     "text": [
      "Ref lengths time:0.15134692192077637\n",
      "staff removal time:3.1499574184417725\n",
      "getting lines time:0.0008511543273925781\n",
      "\n",
      "[ a_4\n",
      "d/4 a_32\n",
      "e/32 a_2\n",
      "e2/2 a_4\n",
      "d/4 {e/4,g/4} a_2\n",
      "e/2 a_8\n",
      "d/8 a_4\n",
      "c/4 a_16 \n",
      "g/0 a_4\n",
      "c/4 a_1\n",
      "e/1 ]\n",
      "time: 3.6296746730804443 seconds\n",
      "---------------------------------------------------------\n",
      "rotation time:0.38688015937805176\n",
      "binarization time:0.04463052749633789\n"
     ]
    },
    {
     "data": {
      "image/png": "[encoded data removed]",
      "text/plain": [
       "<Figure size 432x288 with 1 Axes>"
      ]
     },
     "metadata": {
      "needs_background": "light"
     },
     "output_type": "display_data"
    },
    {
     "name": "stdout",
     "output_type": "stream",
     "text": [
      "Ref lengths time:0.20553231239318848\n",
      "staff removal time:6.749307870864868\n",
      "getting lines time:0.0017044544219970703\n",
      "\n",
      "[ meter<\"4/4\"> a_4\n",
      "d/4 a_32\n",
      "e/32 a_2\n",
      "e2/2 a_8\n",
      "e/8 a_16 \n",
      "e/0 a_32\n",
      "e/32 {e/4,g/4} a_4\n",
      "e/4 e/8 c/8 a_32\n",
      "g/32 a_16 \n",
      "c/0 a_32\n",
      "e/32 a_4\n"
     ]
    },
    {
     "ename": "ValueError",
     "evalue": "attempt to get argmax of an empty sequence",
     "output_type": "error",
     "traceback": [
      "\u001b[0;31m---------------------------------------------------------------------------\u001b[0m",
      "\u001b[0;31mValueError\u001b[0m                                Traceback (most recent call last)",
      "\u001b[0;32m<ipython-input-160-b72577acd64e>\u001b[0m in \u001b[0;36m<module>\u001b[0;34m\u001b[0m\n\u001b[1;32m     61\u001b[0m         \u001b[0;32melif\u001b[0m \u001b[0msymbol_name\u001b[0m\u001b[0;34m[\u001b[0m\u001b[0;36m0\u001b[0m\u001b[0;34m]\u001b[0m\u001b[0;34m==\u001b[0m\u001b[0;34m\"a\"\u001b[0m\u001b[0;34m:\u001b[0m\u001b[0;34m\u001b[0m\u001b[0;34m\u001b[0m\u001b[0m\n\u001b[1;32m     62\u001b[0m             \u001b[0mprint\u001b[0m\u001b[0;34m(\u001b[0m\u001b[0msymbol_name\u001b[0m\u001b[0;34m)\u001b[0m\u001b[0;34m\u001b[0m\u001b[0;34m\u001b[0m\u001b[0m\n\u001b[0;32m---> 63\u001b[0;31m             \u001b[0mprint\u001b[0m\u001b[0;34m(\u001b[0m\u001b[0mgetNoteCharacter\u001b[0m\u001b[0;34m(\u001b[0m\u001b[0mstaffLess\u001b[0m\u001b[0;34m,\u001b[0m \u001b[0mo\u001b[0m\u001b[0;34m,\u001b[0m \u001b[0msymbol_name\u001b[0m\u001b[0;34m,\u001b[0m \u001b[0mlines\u001b[0m\u001b[0;34m,\u001b[0m \u001b[0mstaffHeight\u001b[0m\u001b[0;34m,\u001b[0m \u001b[0mspaceHeight\u001b[0m\u001b[0;34m)\u001b[0m\u001b[0;34m,\u001b[0m\u001b[0mend\u001b[0m\u001b[0;34m=\u001b[0m\u001b[0;34m\" \"\u001b[0m\u001b[0;34m)\u001b[0m\u001b[0;34m\u001b[0m\u001b[0;34m\u001b[0m\u001b[0m\n\u001b[0m\u001b[1;32m     64\u001b[0m \u001b[0;34m\u001b[0m\u001b[0m\n\u001b[1;32m     65\u001b[0m         \u001b[0;32melse\u001b[0m\u001b[0;34m:\u001b[0m\u001b[0;34m\u001b[0m\u001b[0;34m\u001b[0m\u001b[0m\n",
      "\u001b[0;32m/mnt/c/Users/abozied/Desktop/data/notes.py\u001b[0m in \u001b[0;36mgetNoteCharacter\u001b[0;34m(originalImage, boundingRect, noteClass, lines, staffHeight, spaceHeight)\u001b[0m\n\u001b[1;32m    242\u001b[0m         \u001b[0mwidths\u001b[0m \u001b[0;34m=\u001b[0m \u001b[0mpeak_widths\u001b[0m\u001b[0;34m(\u001b[0m\u001b[0mhist\u001b[0m\u001b[0;34m[\u001b[0m\u001b[0;34m:\u001b[0m\u001b[0;34m,\u001b[0m\u001b[0;36m0\u001b[0m\u001b[0;34m]\u001b[0m\u001b[0;34m,\u001b[0m \u001b[0mpeaks\u001b[0m\u001b[0;34m)\u001b[0m\u001b[0;34m[\u001b[0m\u001b[0;36m0\u001b[0m\u001b[0;34m]\u001b[0m\u001b[0;34m\u001b[0m\u001b[0;34m\u001b[0m\u001b[0m\n\u001b[1;32m    243\u001b[0m \u001b[0;34m\u001b[0m\u001b[0m\n\u001b[0;32m--> 244\u001b[0;31m         \u001b[0mpeakIndex\u001b[0m \u001b[0;34m=\u001b[0m \u001b[0mnp\u001b[0m\u001b[0;34m.\u001b[0m\u001b[0margmax\u001b[0m\u001b[0;34m(\u001b[0m\u001b[0mwidths\u001b[0m\u001b[0;34m)\u001b[0m\u001b[0;34m\u001b[0m\u001b[0;34m\u001b[0m\u001b[0m\n\u001b[0m\u001b[1;32m    245\u001b[0m         \u001b[0mpeak\u001b[0m \u001b[0;34m=\u001b[0m \u001b[0mpeaks\u001b[0m\u001b[0;34m[\u001b[0m\u001b[0mpeakIndex\u001b[0m\u001b[0;34m]\u001b[0m\u001b[0;34m\u001b[0m\u001b[0;34m\u001b[0m\u001b[0m\n\u001b[1;32m    246\u001b[0m         \u001b[0mh\u001b[0m \u001b[0;34m=\u001b[0m \u001b[0mhist\u001b[0m\u001b[0;34m[\u001b[0m\u001b[0mpeak\u001b[0m\u001b[0;34m]\u001b[0m\u001b[0;34m\u001b[0m\u001b[0;34m\u001b[0m\u001b[0m\n",
      "\u001b[0;32m<__array_function__ internals>\u001b[0m in \u001b[0;36margmax\u001b[0;34m(*args, **kwargs)\u001b[0m\n",
      "\u001b[0;32m~/.local/lib/python3.8/site-packages/numpy/core/fromnumeric.py\u001b[0m in \u001b[0;36margmax\u001b[0;34m(a, axis, out)\u001b[0m\n\u001b[1;32m   1186\u001b[0m \u001b[0;34m\u001b[0m\u001b[0m\n\u001b[1;32m   1187\u001b[0m     \"\"\"\n\u001b[0;32m-> 1188\u001b[0;31m     \u001b[0;32mreturn\u001b[0m \u001b[0m_wrapfunc\u001b[0m\u001b[0;34m(\u001b[0m\u001b[0ma\u001b[0m\u001b[0;34m,\u001b[0m \u001b[0;34m'argmax'\u001b[0m\u001b[0;34m,\u001b[0m \u001b[0maxis\u001b[0m\u001b[0;34m=\u001b[0m\u001b[0maxis\u001b[0m\u001b[0;34m,\u001b[0m \u001b[0mout\u001b[0m\u001b[0;34m=\u001b[0m\u001b[0mout\u001b[0m\u001b[0;34m)\u001b[0m\u001b[0;34m\u001b[0m\u001b[0;34m\u001b[0m\u001b[0m\n\u001b[0m\u001b[1;32m   1189\u001b[0m \u001b[0;34m\u001b[0m\u001b[0m\n\u001b[1;32m   1190\u001b[0m \u001b[0;34m\u001b[0m\u001b[0m\n",
      "\u001b[0;32m~/.local/lib/python3.8/site-packages/numpy/core/fromnumeric.py\u001b[0m in \u001b[0;36m_wrapfunc\u001b[0;34m(obj, method, *args, **kwds)\u001b[0m\n\u001b[1;32m     56\u001b[0m \u001b[0;34m\u001b[0m\u001b[0m\n\u001b[1;32m     57\u001b[0m     \u001b[0;32mtry\u001b[0m\u001b[0;34m:\u001b[0m\u001b[0;34m\u001b[0m\u001b[0;34m\u001b[0m\u001b[0m\n\u001b[0;32m---> 58\u001b[0;31m         \u001b[0;32mreturn\u001b[0m \u001b[0mbound\u001b[0m\u001b[0;34m(\u001b[0m\u001b[0;34m*\u001b[0m\u001b[0margs\u001b[0m\u001b[0;34m,\u001b[0m \u001b[0;34m**\u001b[0m\u001b[0mkwds\u001b[0m\u001b[0;34m)\u001b[0m\u001b[0;34m\u001b[0m\u001b[0;34m\u001b[0m\u001b[0m\n\u001b[0m\u001b[1;32m     59\u001b[0m     \u001b[0;32mexcept\u001b[0m \u001b[0mTypeError\u001b[0m\u001b[0;34m:\u001b[0m\u001b[0;34m\u001b[0m\u001b[0;34m\u001b[0m\u001b[0m\n\u001b[1;32m     60\u001b[0m         \u001b[0;31m# A TypeError occurs if the object does have such a method in its\u001b[0m\u001b[0;34m\u001b[0m\u001b[0;34m\u001b[0m\u001b[0;34m\u001b[0m\u001b[0m\n",
      "\u001b[0;31mValueError\u001b[0m: attempt to get argmax of an empty sequence"
     ]
    }
   ],
   "source": [
    "\n",
    "dataset_dir = \"PublicTestCases/test-set-scanned/test-cases\"\n",
    "images = load_images_from_folder(dataset_dir)\n",
    "for img in images:\n",
    "    start_time = time.time()\n",
    "    start = time.time()\n",
    "    if img.shape[1] > 1000:\n",
    "        downSize(img)\n",
    "    rotated = rotateImage(img)\n",
    "    print('rotation time:' + str(time.time() - start))\n",
    "\n",
    "    start = time.time()\n",
    "    binary = binraization(rotated)//255\n",
    "    print('binarization time:' + str(time.time() - start))\n",
    "    \n",
    "    show_images([binary])\n",
    "\n",
    "    start = time.time()\n",
    "    staffHeight, spaceHeight = getRefLengths(binary)\n",
    "    print('Ref lengths time:' + str(time.time() - start))\n",
    "    \n",
    "    start = time.time()\n",
    "    filteredImg3 = getCandidateStaffs(binary, staffHeight)\n",
    "    lines = getLines(1-filteredImg3, staffHeight, spaceHeight)\n",
    "    ignoreInterStaffs(filteredImg, lines, spaceHeight)\n",
    "\n",
    "    staffLess = (binary-filteredImg3).astype(np.uint8)\n",
    "    print('staff removal time:' + str(time.time() - start))\n",
    "\n",
    "    start = time.time()\n",
    "    print('getting lines time:' + str(time.time() - start))\n",
    "    \n",
    "    objects = segmentImage(staffLess, lines, staffHeight, spaceHeight)\n",
    "    for o in objects:\n",
    "        features = extract_features(staffLess[o[1]:o[3], o[0]:o[2]], 'hog')\n",
    "        symbol_name = classes[np.argmax( nn.predict_proba([features]))]\n",
    "        \n",
    "#         show_images([staffLess[o[1]:o[3], o[0]:o[2]]])\n",
    "        if symbol_name == \"a_2 \" or symbol_name == \"a_2 \":\n",
    "            if isHalf(staffLess[o[1]:o[3], o[0]:o[2]],spaceHeight) :\n",
    "                symbol_name = \"a_2 \"\n",
    "            else:\n",
    "                symbol_name = \"a_4 \"\n",
    "        if symbol_name ==\"clef\":\n",
    "            print()\n",
    "            print(\"[\",end= \" \")\n",
    "        elif (o[2]-o[0]) > 3*spaceHeight:\n",
    "            print(getNoteCharacter(staffLess, o, \" \", lines, staffHeight, spaceHeight),end=\" \")\n",
    "        elif symbol_name == \".\" or symbol_name == \"barline \":\n",
    "                if isDot(staffLess[o[1]:o[3], o[0]:o[2]],spaceHeight):\n",
    "                    print(\".\",end=\"\")\n",
    "        elif symbol_name == \"chord\":\n",
    "            try:\n",
    "                notes = getchordText([o[1],o[3]],staffLess[o[1]:o[3], o[0]:o[2]],staffHeight,spaceHeight,lines)\n",
    "            except: \n",
    "                continue\n",
    "            print(\"{\",end=\"\")\n",
    "            for n in notes[:-1]:\n",
    "                print(n+\"/4,\",end=\"\")\n",
    "            print(notes[-1]+\"/4\",end=\"\")\n",
    "            print(\"} \",end=\"\")\n",
    "        elif symbol_name[0]==\"a\":\n",
    "            print(symbol_name)\n",
    "            print(getNoteCharacter(staffLess, o, symbol_name, lines, staffHeight, spaceHeight),end=\" \")\n",
    "        \n",
    "        else:\n",
    "            print(symbol_name,end=\"\")\n",
    "            \n",
    "    print(\"]\")\n",
    "    print(\"time: %s seconds\" % (time.time() - start_time))\n",
    "    print(\"---------------------------------------------------------\")\n",
    "\n",
    "\n"
   ]
  },
  {
   "cell_type": "code",
   "execution_count": null,
   "metadata": {},
   "outputs": [],
   "source": []
  },
  {
   "cell_type": "code",
   "execution_count": null,
   "metadata": {},
   "outputs": [],
   "source": []
  }
 ],
 "metadata": {
  "kernelspec": {
   "display_name": "Python 3",
   "language": "python",
   "name": "python3"
  },
  "language_info": {
   "codemirror_mode": {
    "name": "ipython",
    "version": 3
   },
   "file_extension": ".py",
   "mimetype": "text/x-python",
   "name": "python",
   "nbconvert_exporter": "python",
   "pygments_lexer": "ipython3",
   "version": "3.8.5"
  },
  "varInspector": {
   "cols": {
    "lenName": 16,
    "lenType": 16,
    "lenVar": 40
   },
   "kernels_config": {
    "python": {
     "delete_cmd_postfix": "",
     "delete_cmd_prefix": "del ",
     "library": "var_list.py",
     "varRefreshCmd": "print(var_dic_list())"
    },
    "r": {
     "delete_cmd_postfix": ") ",
     "delete_cmd_prefix": "rm(",
     "library": "var_list.r",
     "varRefreshCmd": "cat(var_dic_list()) "
    }
   },
   "types_to_exclude": [
    "module",
    "function",
    "builtin_function_or_method",
    "instance",
    "_Feature"
   ],
   "window_display": false
  }
 },
 "nbformat": 4,
 "nbformat_minor": 4
}
