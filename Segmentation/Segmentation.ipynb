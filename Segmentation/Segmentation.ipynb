{
 "cells": [
  {
   "cell_type": "markdown",
   "metadata": {},
   "source": [
    "# Segmentation \n",
    "### This Notebook takes a binarized Image with horizontal staff lines image and the output is the Segmented Image\n",
    "### It takes care of the removing staff lines and splitting the image into different music lines\n"
   ]
  },
  {
   "cell_type": "code",
   "execution_count": 1,
   "metadata": {},
   "outputs": [],
   "source": [
    "from commonfunctions import *\n",
    "import numpy as np\n",
    "import skimage.io as io\n",
    "import os\n",
    "import matplotlib.pyplot as plt\n",
    "from skimage.color import rgb2gray\n",
    "from skimage.morphology import binary_erosion, binary_dilation, binary_closing, binary_opening, skeletonize, thin\n",
    "from skimage.measure import find_contours\n",
    "from skimage.draw import rectangle\n",
    "import skimage.filters as fr\n",
    "import skimage as sk\n",
    "import cv2\n",
    "%matplotlib inline\n",
    "%load_ext autoreload\n",
    "%autoreload 2"
   ]
  },
  {
   "cell_type": "code",
   "execution_count": 17,
   "metadata": {
    "code_folding": []
   },
   "outputs": [
    {
     "name": "stdout",
     "output_type": "stream",
     "text": [
      "27\n"
     ]
    },
    {
     "data": {
      "image/png": "[encoded data removed]",
      "text/plain": [
       "<Figure size 432x288 with 1 Axes>"
      ]
     },
     "metadata": {
      "needs_background": "light"
     },
     "output_type": "display_data"
    }
   ],
   "source": [
    "path = '../../objects/test/'\n",
    "\n",
    "def isHalf(img, spaceHeight):\n",
    "    w = img.shape[1]\n",
    "    h = img.shape[0]\n",
    "    hist = np.zeros((w,4), dtype=np.uint32)\n",
    "    min_x, max_x = 0, w\n",
    "    min_y, max_y = 0, h \n",
    "    for i in range(w):\n",
    "        window = img[:, i: min(i + 1, w)]\n",
    "    #     show_images([window])\n",
    "        xprojection = np.sum(window, axis=1)\n",
    "    #     xprojection = np.where(xprojection>spaceHeight//4, 1,0)\n",
    "\n",
    "        starts = np.array((xprojection[:-1] == 0) & (xprojection[1:] != 0))\n",
    "        starts_ix = np.where(starts)[0] + 1\n",
    "        ends = np.array((xprojection[:-1] != 0) & (xprojection[1:] == 0))\n",
    "        ends_ix = np.where(ends)[0]\n",
    "\n",
    "        if xprojection[0] != 0:\n",
    "            starts_ix = np.append(0, starts_ix)\n",
    "\n",
    "        if xprojection[-1] != 0:\n",
    "            ends_ix = np.append(ends_ix, xprojection.size-1)\n",
    "\n",
    "        if starts_ix.size != 0:\n",
    "            index = np.argmax(ends_ix - starts_ix)\n",
    "            hist[i,1] = min_x + i\n",
    "            hist[i,2] = min_y + starts_ix[index]\n",
    "            hist[i,3] = min_y + ends_ix[index]\n",
    "            length = hist[i,3] - hist[i,2]\n",
    "            if 0.5*spaceHeight < length < spaceHeight*1.5:\n",
    "                hist[i,0] = length\n",
    "    projections = len(np.where(hist[:,0]>0)[0])\n",
    "    if projections > img.shape[1]//3:\n",
    "        return False\n",
    "    else:\n",
    "        return True\n",
    "# img_filenames = os.listdir(path)\n",
    "\n",
    "# for i, fn in enumerate(img_filenames):\n",
    "#     p = os.path.join(path, fn)\n",
    "#     img = cv2.imread(p, 0)\n",
    "#     print(isHalf(img, 20))\n",
    "\n",
    "img = cv2.imread(path+'a2.png', 0)\n",
    "xprojection = np.sum(img//255, axis=1)\n",
    "\n",
    "plt.bar(range(img.shape[0]), xprojection, width=0.5)\n",
    "plt.show()\n",
    "# se = np.ones((1, 7))\n",
    "# half = binary_opening(half, se)\n",
    "# quar = binary_opening(quar, se\n",
    "spaceHeight = 20"
   ]
  },
  {
   "cell_type": "code",
   "execution_count": null,
   "metadata": {},
   "outputs": [],
   "source": []
  }
 ],
 "metadata": {
  "kernelspec": {
   "display_name": "Python 3",
   "language": "python",
   "name": "python3"
  },
  "language_info": {
   "codemirror_mode": {
    "name": "ipython",
    "version": 3
   },
   "file_extension": ".py",
   "mimetype": "text/x-python",
   "name": "python",
   "nbconvert_exporter": "python",
   "pygments_lexer": "ipython3",
   "version": "3.7.3"
  }
 },
 "nbformat": 4,
 "nbformat_minor": 2
}
